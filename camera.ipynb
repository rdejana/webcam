{
 "cells": [
  {
   "cell_type": "code",
   "execution_count": 1,
   "metadata": {
    "tags": []
   },
   "outputs": [
    {
     "ename": "ImportError",
     "evalue": "dlopen(/Library/Frameworks/Python.framework/Versions/3.9/lib/python3.9/site-packages/cv2/cv2.cpython-39-darwin.so, 0x0002): Library not loaded: /opt/homebrew/opt/tesseract/lib/libtesseract.4.dylib\n  Referenced from: <E405C4FE-39F4-3A94-AE99-384CA8D22D7C> /Library/Frameworks/Python.framework/Versions/3.9/lib/python3.9/site-packages/cv2/cv2.cpython-39-darwin.so\n  Reason: tried: '/opt/homebrew/opt/tesseract/lib/libtesseract.4.dylib' (no such file), '/System/Volumes/Preboot/Cryptexes/OS/opt/homebrew/opt/tesseract/lib/libtesseract.4.dylib' (no such file), '/opt/homebrew/opt/tesseract/lib/libtesseract.4.dylib' (no such file), '/usr/lib/libtesseract.4.dylib' (no such file, not in dyld cache), '/opt/homebrew/Cellar/tesseract/5.3.0_1/lib/libtesseract.4.dylib' (no such file), '/System/Volumes/Preboot/Cryptexes/OS/opt/homebrew/Cellar/tesseract/5.3.0_1/lib/libtesseract.4.dylib' (no such file), '/opt/homebrew/Cellar/tesseract/5.3.0_1/lib/libtesseract.4.dylib' (no such file), '/usr/lib/libtesseract.4.dylib' (no such file, not in dyld cache)",
     "output_type": "error",
     "traceback": [
      "\u001B[0;31m---------------------------------------------------------------------------\u001B[0m",
      "\u001B[0;31mImportError\u001B[0m                               Traceback (most recent call last)",
      "\u001B[0;32m/var/folders/ps/vcqkkqdd4x30k1yq9yzlffp40000gn/T/ipykernel_57263/2531961092.py\u001B[0m in \u001B[0;36m<module>\u001B[0;34m\u001B[0m\n\u001B[1;32m      1\u001B[0m \u001B[0;32mimport\u001B[0m \u001B[0mipywidgets\u001B[0m\u001B[0;34m.\u001B[0m\u001B[0mwidgets\u001B[0m \u001B[0;32mas\u001B[0m \u001B[0mwidgets\u001B[0m\u001B[0;34m\u001B[0m\u001B[0;34m\u001B[0m\u001B[0m\n\u001B[1;32m      2\u001B[0m \u001B[0;32mimport\u001B[0m \u001B[0mtraitlets\u001B[0m\u001B[0;34m\u001B[0m\u001B[0;34m\u001B[0m\u001B[0m\n\u001B[0;32m----> 3\u001B[0;31m \u001B[0;32mfrom\u001B[0m \u001B[0mwcam\u001B[0m \u001B[0;32mimport\u001B[0m \u001B[0mCamera\u001B[0m\u001B[0;34m\u001B[0m\u001B[0;34m\u001B[0m\u001B[0m\n\u001B[0m\u001B[1;32m      4\u001B[0m \u001B[0;32mfrom\u001B[0m \u001B[0mwcam\u001B[0m \u001B[0;32mimport\u001B[0m \u001B[0mbgr8_to_jpeg\u001B[0m\u001B[0;34m\u001B[0m\u001B[0;34m\u001B[0m\u001B[0m\n",
      "\u001B[0;32m~/Development/Git/webcam/wcam/__init__.py\u001B[0m in \u001B[0;36m<module>\u001B[0;34m\u001B[0m\n\u001B[0;32m----> 1\u001B[0;31m \u001B[0;32mfrom\u001B[0m \u001B[0;34m.\u001B[0m\u001B[0mcamera\u001B[0m \u001B[0;32mimport\u001B[0m \u001B[0mCamera\u001B[0m\u001B[0;34m\u001B[0m\u001B[0;34m\u001B[0m\u001B[0m\n\u001B[0m\u001B[1;32m      2\u001B[0m \u001B[0;32mfrom\u001B[0m \u001B[0;34m.\u001B[0m\u001B[0mimage\u001B[0m \u001B[0;32mimport\u001B[0m \u001B[0mbgr8_to_jpeg\u001B[0m\u001B[0;34m\u001B[0m\u001B[0;34m\u001B[0m\u001B[0m\n",
      "\u001B[0;32m~/Development/Git/webcam/wcam/camera/__init__.py\u001B[0m in \u001B[0;36m<module>\u001B[0;34m\u001B[0m\n\u001B[0;32m----> 1\u001B[0;31m \u001B[0;32mfrom\u001B[0m \u001B[0;34m.\u001B[0m\u001B[0mopencv_usb_camera\u001B[0m \u001B[0;32mimport\u001B[0m \u001B[0mOpenCvUsbCamera\u001B[0m\u001B[0;34m\u001B[0m\u001B[0;34m\u001B[0m\u001B[0m\n\u001B[0m\u001B[1;32m      2\u001B[0m \u001B[0mCamera\u001B[0m \u001B[0;34m=\u001B[0m \u001B[0mOpenCvUsbCamera\u001B[0m\u001B[0;34m\u001B[0m\u001B[0;34m\u001B[0m\u001B[0m\n",
      "\u001B[0;32m~/Development/Git/webcam/wcam/camera/opencv_usb_camera.py\u001B[0m in \u001B[0;36m<module>\u001B[0;34m\u001B[0m\n\u001B[1;32m     22\u001B[0m \u001B[0;32mimport\u001B[0m \u001B[0mtraitlets\u001B[0m\u001B[0;34m\u001B[0m\u001B[0;34m\u001B[0m\u001B[0m\n\u001B[1;32m     23\u001B[0m \u001B[0;32mimport\u001B[0m \u001B[0matexit\u001B[0m\u001B[0;34m\u001B[0m\u001B[0;34m\u001B[0m\u001B[0m\n\u001B[0;32m---> 24\u001B[0;31m \u001B[0;32mimport\u001B[0m \u001B[0mcv2\u001B[0m\u001B[0;34m\u001B[0m\u001B[0;34m\u001B[0m\u001B[0m\n\u001B[0m\u001B[1;32m     25\u001B[0m \u001B[0;32mimport\u001B[0m \u001B[0mthreading\u001B[0m\u001B[0;34m\u001B[0m\u001B[0;34m\u001B[0m\u001B[0m\n\u001B[1;32m     26\u001B[0m \u001B[0;32mimport\u001B[0m \u001B[0mnumpy\u001B[0m \u001B[0;32mas\u001B[0m \u001B[0mnp\u001B[0m\u001B[0;34m\u001B[0m\u001B[0;34m\u001B[0m\u001B[0m\n",
      "\u001B[0;32m/Library/Frameworks/Python.framework/Versions/3.9/lib/python3.9/site-packages/cv2/__init__.py\u001B[0m in \u001B[0;36m<module>\u001B[0;34m\u001B[0m\n\u001B[1;32m      3\u001B[0m \u001B[0;32mimport\u001B[0m \u001B[0msys\u001B[0m\u001B[0;34m\u001B[0m\u001B[0;34m\u001B[0m\u001B[0m\n\u001B[1;32m      4\u001B[0m \u001B[0;34m\u001B[0m\u001B[0m\n\u001B[0;32m----> 5\u001B[0;31m \u001B[0;32mfrom\u001B[0m \u001B[0;34m.\u001B[0m\u001B[0mcv2\u001B[0m \u001B[0;32mimport\u001B[0m \u001B[0;34m*\u001B[0m\u001B[0;34m\u001B[0m\u001B[0;34m\u001B[0m\u001B[0m\n\u001B[0m\u001B[1;32m      6\u001B[0m \u001B[0;32mfrom\u001B[0m \u001B[0;34m.\u001B[0m\u001B[0mdata\u001B[0m \u001B[0;32mimport\u001B[0m \u001B[0;34m*\u001B[0m\u001B[0;34m\u001B[0m\u001B[0;34m\u001B[0m\u001B[0m\n\u001B[1;32m      7\u001B[0m \u001B[0;34m\u001B[0m\u001B[0m\n",
      "\u001B[0;31mImportError\u001B[0m: dlopen(/Library/Frameworks/Python.framework/Versions/3.9/lib/python3.9/site-packages/cv2/cv2.cpython-39-darwin.so, 0x0002): Library not loaded: /opt/homebrew/opt/tesseract/lib/libtesseract.4.dylib\n  Referenced from: <E405C4FE-39F4-3A94-AE99-384CA8D22D7C> /Library/Frameworks/Python.framework/Versions/3.9/lib/python3.9/site-packages/cv2/cv2.cpython-39-darwin.so\n  Reason: tried: '/opt/homebrew/opt/tesseract/lib/libtesseract.4.dylib' (no such file), '/System/Volumes/Preboot/Cryptexes/OS/opt/homebrew/opt/tesseract/lib/libtesseract.4.dylib' (no such file), '/opt/homebrew/opt/tesseract/lib/libtesseract.4.dylib' (no such file), '/usr/lib/libtesseract.4.dylib' (no such file, not in dyld cache), '/opt/homebrew/Cellar/tesseract/5.3.0_1/lib/libtesseract.4.dylib' (no such file), '/System/Volumes/Preboot/Cryptexes/OS/opt/homebrew/Cellar/tesseract/5.3.0_1/lib/libtesseract.4.dylib' (no such file), '/opt/homebrew/Cellar/tesseract/5.3.0_1/lib/libtesseract.4.dylib' (no such file), '/usr/lib/libtesseract.4.dylib' (no such file, not in dyld cache)"
     ]
    }
   ],
   "source": [
    "import ipywidgets.widgets as widgets\n",
    "import traitlets\n",
    "from wcam import Camera\n",
    "from wcam import bgr8_to_jpeg\n"
   ]
  },
  {
   "cell_type": "markdown",
   "metadata": {},
   "source": [
    "## Create and display Image widget\n",
    "First, we'll create an Image widget that will be used to show the live camera feed. We'll set the height and width to just 300 pixels so it doesn't take up too much space.\n",
    "\n",
    "The height and width only effect the rendering on the browser side."
   ]
  },
  {
   "cell_type": "code",
   "execution_count": 2,
   "metadata": {
    "collapsed": false,
    "jupyter": {
     "outputs_hidden": false
    }
   },
   "outputs": [
    {
     "data": {
      "application/vnd.jupyter.widget-view+json": {
       "model_id": "cd8a487c9f65407eadac0ac48edc948b",
       "version_major": 2,
       "version_minor": 0
      },
      "text/plain": [
       "Image(value=b'', format='jpeg', height='300', width='300')"
      ]
     },
     "metadata": {},
     "output_type": "display_data"
    }
   ],
   "source": [
    "image = widgets.Image(format='jpeg', width=300, height=300)\n",
    "display(image)"
   ]
  },
  {
   "cell_type": "markdown",
   "metadata": {},
   "source": [
    "## Connect Image to Camera\n",
    "There is no image shown because the Image widge does not have a value set yet.  Do this, we'll first create a Camera instance (you can customize the device id, width, height, fps, capture witdh, and cpatue height) and linking its value to the image's value.\n",
    "\n",
    "To get access to the camera, we'll call the instance method; this creates a new camera if one doesn't already exist or returns the existing one.\n",
    "\n",
    "To connect the camera to the image we need to insert the bgr8_to_jpeg function as a transform in the link."
   ]
  },
  {
   "cell_type": "code",
   "execution_count": 4,
   "metadata": {
    "collapsed": false,
    "jupyter": {
     "outputs_hidden": false
    }
   },
   "outputs": [],
   "source": [
    "# You can customize the settings used for the camera with the following\n",
    "#\n",
    "# sensor_id = the video source to use, defaults to 0.\n",
    "# width = the width, defaults to 320\n",
    "# height = the height, defaults to 180\n",
    "# fps = frames per second of the camera, defaults to 30\n",
    "# capture_width = width the camera uses to capture the image, defaults to 1280\n",
    "# capture_height = height the camera uses to capture the image, defaults to 720\n",
    "#\n",
    "camera = Camera.instance(sensor_id=1)\n",
    "camera_link = traitlets.dlink((camera, 'value'), (image, 'value'), transform=bgr8_to_jpeg)"
   ]
  },
  {
   "cell_type": "markdown",
   "metadata": {},
   "source": [
    "You should now see the live video feed shown above!\n",
    "\n",
    "REMINDER: You can right click the output of a cell and select 'Create New View for Output' to display the cell in a separate window."
   ]
  },
  {
   "cell_type": "markdown",
   "metadata": {},
   "source": [
    "To stop the camera, just call the stop method."
   ]
  },
  {
   "cell_type": "code",
   "execution_count": null,
   "metadata": {
    "collapsed": false,
    "jupyter": {
     "outputs_hidden": false
    },
    "pycharm": {
     "is_executing": true
    }
   },
   "outputs": [],
   "source": [
    "camera.stop()"
   ]
  },
  {
   "cell_type": "code",
   "execution_count": null,
   "metadata": {
    "collapsed": false,
    "jupyter": {
     "outputs_hidden": false
    }
   },
   "outputs": [],
   "source": []
  }
 ],
 "metadata": {
  "kernelspec": {
   "display_name": "Python 3 (ipykernel)",
   "language": "python",
   "name": "python3"
  },
  "language_info": {
   "codemirror_mode": {
    "name": "ipython",
    "version": 3
   },
   "file_extension": ".py",
   "mimetype": "text/x-python",
   "name": "python",
   "nbconvert_exporter": "python",
   "pygments_lexer": "ipython3",
   "version": "3.9.6"
  }
 },
 "nbformat": 4,
 "nbformat_minor": 4
}
