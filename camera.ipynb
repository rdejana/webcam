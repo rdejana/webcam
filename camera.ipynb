{
 "cells": [
  {
   "cell_type": "code",
   "execution_count": null,
   "metadata": {
    "collapsed": true
   },
   "outputs": [],
   "source": [
    "import ipywidgets.widgets as widgets\n",
    "import traitlets\n",
    "from webcam import Camera\n",
    "from webcam import bgr8_to_jpeg\n"
   ]
  },
  {
   "cell_type": "markdown",
   "source": [
    "## Create and display Image widget\n",
    "First, we'll create an Image widget that will be used to show the live camera feed. We'll set the height and width to just 300 pixels so it doesn't take up too much space.\n",
    "\n",
    "The height and width only effect the rendering on the browser side."
   ],
   "metadata": {
    "collapsed": false
   }
  },
  {
   "cell_type": "code",
   "execution_count": null,
   "outputs": [],
   "source": [
    "image = widgets.Image(format='jpeg', width=300, height=300)\n",
    "display(image)"
   ],
   "metadata": {
    "collapsed": false
   }
  },
  {
   "cell_type": "markdown",
   "source": [
    "## Connect Image to Camera\n",
    "There is no image shown because the Image widge does not have a value set yet.  Do this, we'll first create a Camera instance (you can customize the device id, width, height, fps, capture witdh, and cpatue height) and linking its value to the image's value.\n",
    "\n",
    "To get access to the camera, we'll call the instance method; this creates a new camera if one doesn't already exist or returns the existing one.\n",
    "\n",
    "To connect the camera to the image we need to insert the bgr8_to_jpeg function as a transform in the link."
   ],
   "metadata": {
    "collapsed": false
   }
  },
  {
   "cell_type": "code",
   "execution_count": null,
   "outputs": [],
   "source": [
    "# You can customize the settings used for the camera with the following\n",
    "#\n",
    "# sensor_id = the video source to use, defaults to 0.\n",
    "# width = the width, defaults to 320\n",
    "# height = the height, defaults to 180\n",
    "# fps = frames per second of the camera, defaults to 30\n",
    "# capture_width = width the camera uses to capture the image, defaults to 1280\n",
    "# capture_height = height the camera uses to capture the image, defaults to 720\n",
    "#\n",
    "camera = Camera.instance()\n",
    "camera_link = traitlets.dlink((camera, 'value'), (image, 'value'), transform=bgr8_to_jpeg)"
   ],
   "metadata": {
    "collapsed": false
   }
  },
  {
   "cell_type": "markdown",
   "source": [
    "You should now see the live video feed shown above!\n",
    "\n",
    "REMINDER: You can right click the output of a cell and select 'Create New View for Output' to display the cell in a separate window."
   ],
   "metadata": {
    "collapsed": false
   }
  },
  {
   "cell_type": "markdown",
   "source": [
    "To stop the camera, just call the stop method."
   ],
   "metadata": {
    "collapsed": false
   }
  },
  {
   "cell_type": "code",
   "execution_count": null,
   "outputs": [],
   "source": [
    "camera.stop()"
   ],
   "metadata": {
    "collapsed": false
   }
  }
 ],
 "metadata": {
  "kernelspec": {
   "display_name": "Python 3",
   "language": "python",
   "name": "python3"
  },
  "language_info": {
   "codemirror_mode": {
    "name": "ipython",
    "version": 2
   },
   "file_extension": ".py",
   "mimetype": "text/x-python",
   "name": "python",
   "nbconvert_exporter": "python",
   "pygments_lexer": "ipython2",
   "version": "2.7.6"
  }
 },
 "nbformat": 4,
 "nbformat_minor": 0
}
