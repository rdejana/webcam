{
 "cells": [
  {
   "cell_type": "code",
   "execution_count": 1,
   "metadata": {
    "collapsed": true,
    "jupyter": {
     "outputs_hidden": true
    }
   },
   "outputs": [
    {
     "ename": "ModuleNotFoundError",
     "evalue": "No module named 'gi'",
     "output_type": "error",
     "traceback": [
      "\u001B[0;31m---------------------------------------------------------------------------\u001B[0m",
      "\u001B[0;31mModuleNotFoundError\u001B[0m                       Traceback (most recent call last)",
      "Cell \u001B[0;32mIn[1], line 3\u001B[0m\n\u001B[1;32m      1\u001B[0m \u001B[38;5;28;01mimport\u001B[39;00m \u001B[38;5;21;01mipywidgets\u001B[39;00m\u001B[38;5;21;01m.\u001B[39;00m\u001B[38;5;21;01mwidgets\u001B[39;00m \u001B[38;5;28;01mas\u001B[39;00m \u001B[38;5;21;01mwidgets\u001B[39;00m\n\u001B[1;32m      2\u001B[0m \u001B[38;5;28;01mimport\u001B[39;00m \u001B[38;5;21;01mtraitlets\u001B[39;00m\n\u001B[0;32m----> 3\u001B[0m \u001B[38;5;28;01mfrom\u001B[39;00m \u001B[38;5;21;01mwebcam\u001B[39;00m \u001B[38;5;28;01mimport\u001B[39;00m Camera\n\u001B[1;32m      4\u001B[0m \u001B[38;5;28;01mfrom\u001B[39;00m \u001B[38;5;21;01mwebcam\u001B[39;00m \u001B[38;5;28;01mimport\u001B[39;00m bgr8_to_jpeg\n",
      "File \u001B[0;32m~/Development/Git/webcam/webcam/__init__.py:2\u001B[0m\n\u001B[1;32m      1\u001B[0m \u001B[38;5;28;01mfrom\u001B[39;00m \u001B[38;5;21;01m.\u001B[39;00m\u001B[38;5;21;01mcamera\u001B[39;00m \u001B[38;5;28;01mimport\u001B[39;00m Camera\n\u001B[0;32m----> 2\u001B[0m \u001B[38;5;28;01mfrom\u001B[39;00m \u001B[38;5;21;01m.\u001B[39;00m\u001B[38;5;21;01mimage\u001B[39;00m \u001B[38;5;28;01mimport\u001B[39;00m bgr8_to_jpeg\n",
      "File \u001B[0;32m~/Development/Git/webcam/webcam/image.py:22\u001B[0m\n\u001B[1;32m     20\u001B[0m \u001B[38;5;28;01mimport\u001B[39;00m \u001B[38;5;21;01menum\u001B[39;00m\n\u001B[1;32m     21\u001B[0m \u001B[38;5;28;01mimport\u001B[39;00m \u001B[38;5;21;01mcv2\u001B[39;00m\n\u001B[0;32m---> 22\u001B[0m \u001B[38;5;28;01mfrom\u001B[39;00m \u001B[38;5;21;01m.\u001B[39;00m\u001B[38;5;21;01mjpeg_encoder\u001B[39;00m \u001B[38;5;28;01mimport\u001B[39;00m JpegEncoder\n\u001B[1;32m     25\u001B[0m _ENCODER \u001B[38;5;241m=\u001B[39m JpegEncoder(width\u001B[38;5;241m=\u001B[39m\u001B[38;5;241m224\u001B[39m, height\u001B[38;5;241m=\u001B[39m\u001B[38;5;241m224\u001B[39m, fps\u001B[38;5;241m=\u001B[39m\u001B[38;5;241m21\u001B[39m)\n\u001B[1;32m     28\u001B[0m \u001B[38;5;28;01mdef\u001B[39;00m \u001B[38;5;21mbgr8_to_jpeg_gst\u001B[39m(value):\n",
      "File \u001B[0;32m~/Development/Git/webcam/webcam/jpeg_encoder.py:2\u001B[0m\n\u001B[1;32m      1\u001B[0m \u001B[38;5;28;01mimport\u001B[39;00m \u001B[38;5;21;01mtraitlets\u001B[39;00m\n\u001B[0;32m----> 2\u001B[0m \u001B[38;5;28;01mimport\u001B[39;00m \u001B[38;5;21;01mgi\u001B[39;00m\n\u001B[1;32m      4\u001B[0m gi\u001B[38;5;241m.\u001B[39mrequire_version(\u001B[38;5;124m'\u001B[39m\u001B[38;5;124mGst\u001B[39m\u001B[38;5;124m'\u001B[39m, \u001B[38;5;124m'\u001B[39m\u001B[38;5;124m1.0\u001B[39m\u001B[38;5;124m'\u001B[39m)\n\u001B[1;32m      5\u001B[0m \u001B[38;5;28;01mimport\u001B[39;00m \u001B[38;5;21;01mlogging\u001B[39;00m\n",
      "\u001B[0;31mModuleNotFoundError\u001B[0m: No module named 'gi'"
     ]
    }
   ],
   "source": [
    "import ipywidgets.widgets as widgets\n",
    "import traitlets\n",
    "from gswebcam import Camera\n",
    "from gswebcam import bgr8_to_jpeg\n"
   ]
  },
  {
   "cell_type": "markdown",
   "metadata": {},
   "source": [
    "## Create and display Image widget\n",
    "First, we'll create an Image widget that will be used to show the live camera feed. We'll set the height and width to just 300 pixels so it doesn't take up too much space.\n",
    "\n",
    "The height and width only effect the rendering on the browser side."
   ]
  },
  {
   "cell_type": "code",
   "execution_count": 2,
   "metadata": {
    "collapsed": false,
    "jupyter": {
     "outputs_hidden": false
    }
   },
   "outputs": [
    {
     "data": {
      "application/vnd.jupyter.widget-view+json": {
       "model_id": "b37f8061d01c4dd0abd75c01e24e3e35",
       "version_major": 2,
       "version_minor": 0
      },
      "text/plain": [
       "Image(value=b'', format='jpeg', height='300', width='300')"
      ]
     },
     "metadata": {},
     "output_type": "display_data"
    }
   ],
   "source": [
    "image = widgets.Image(format='jpeg', width=300, height=300)\n",
    "display(image)"
   ]
  },
  {
   "cell_type": "markdown",
   "metadata": {},
   "source": [
    "## Connect Image to Camera\n",
    "There is no image shown because the Image widge does not have a value set yet.  Do this, we'll first create a Camera instance (you can customize the device id, width, height, fps, capture witdh, and cpatue height) and linking its value to the image's value.\n",
    "\n",
    "To get access to the camera, we'll call the instance method; this creates a new camera if one doesn't already exist or returns the existing one.\n",
    "\n",
    "To connect the camera to the image we need to insert the bgr8_to_jpeg function as a transform in the link."
   ]
  },
  {
   "cell_type": "code",
   "execution_count": 3,
   "metadata": {
    "collapsed": false,
    "jupyter": {
     "outputs_hidden": false
    }
   },
   "outputs": [
    {
     "ename": "NameError",
     "evalue": "name 'Camera' is not defined",
     "output_type": "error",
     "traceback": [
      "\u001B[0;31m---------------------------------------------------------------------------\u001B[0m",
      "\u001B[0;31mNameError\u001B[0m                                 Traceback (most recent call last)",
      "Cell \u001B[0;32mIn[3], line 10\u001B[0m\n\u001B[1;32m      1\u001B[0m \u001B[38;5;66;03m# You can customize the settings used for the camera with the following\u001B[39;00m\n\u001B[1;32m      2\u001B[0m \u001B[38;5;66;03m#\u001B[39;00m\n\u001B[1;32m      3\u001B[0m \u001B[38;5;66;03m# sensor_id = the video source to use, defaults to 0.\u001B[39;00m\n\u001B[0;32m   (...)\u001B[0m\n\u001B[1;32m      8\u001B[0m \u001B[38;5;66;03m# capture_height = height the camera uses to capture the image, defaults to 720\u001B[39;00m\n\u001B[1;32m      9\u001B[0m \u001B[38;5;66;03m#\u001B[39;00m\n\u001B[0;32m---> 10\u001B[0m camera \u001B[38;5;241m=\u001B[39m \u001B[43mCamera\u001B[49m\u001B[38;5;241m.\u001B[39minstance()\n\u001B[1;32m     11\u001B[0m camera_link \u001B[38;5;241m=\u001B[39m traitlets\u001B[38;5;241m.\u001B[39mdlink((camera, \u001B[38;5;124m'\u001B[39m\u001B[38;5;124mvalue\u001B[39m\u001B[38;5;124m'\u001B[39m), (image, \u001B[38;5;124m'\u001B[39m\u001B[38;5;124mvalue\u001B[39m\u001B[38;5;124m'\u001B[39m), transform\u001B[38;5;241m=\u001B[39mbgr8_to_jpeg)\n",
      "\u001B[0;31mNameError\u001B[0m: name 'Camera' is not defined"
     ]
    }
   ],
   "source": [
    "# You can customize the settings used for the camera with the following\n",
    "#\n",
    "# sensor_id = the video source to use, defaults to 0.\n",
    "# width = the width, defaults to 320\n",
    "# height = the height, defaults to 180\n",
    "# fps = frames per second of the camera, defaults to 30\n",
    "# capture_width = width the camera uses to capture the image, defaults to 1280\n",
    "# capture_height = height the camera uses to capture the image, defaults to 720\n",
    "#\n",
    "camera = Camera.instance()\n",
    "camera_link = traitlets.dlink((camera, 'value'), (image, 'value'), transform=bgr8_to_jpeg)"
   ]
  },
  {
   "cell_type": "markdown",
   "metadata": {},
   "source": [
    "You should now see the live video feed shown above!\n",
    "\n",
    "REMINDER: You can right click the output of a cell and select 'Create New View for Output' to display the cell in a separate window."
   ]
  },
  {
   "cell_type": "markdown",
   "metadata": {},
   "source": [
    "To stop the camera, just call the stop method."
   ]
  },
  {
   "cell_type": "code",
   "execution_count": null,
   "metadata": {
    "collapsed": false,
    "jupyter": {
     "outputs_hidden": false
    }
   },
   "outputs": [],
   "source": [
    "camera.stop()"
   ]
  }
 ],
 "metadata": {
  "kernelspec": {
   "display_name": "Python 3 (ipykernel)",
   "language": "python",
   "name": "python3"
  },
  "language_info": {
   "codemirror_mode": {
    "name": "ipython",
    "version": 3
   },
   "file_extension": ".py",
   "mimetype": "text/x-python",
   "name": "python",
   "nbconvert_exporter": "python",
   "pygments_lexer": "ipython3",
   "version": "3.9.6"
  }
 },
 "nbformat": 4,
 "nbformat_minor": 4
}
